{
 "cells": [
  {
   "cell_type": "code",
   "execution_count": null,
   "metadata": {},
   "outputs": [],
   "source": [
    "import socket\n",
    "\n",
    "from concurrent.futures import ThreadPoolExecutor\n",
    "import itertools"
   ]
  },
  {
   "cell_type": "code",
   "execution_count": null,
   "metadata": {},
   "outputs": [],
   "source": [
    "def sum_list(x):\n",
    "    res = []\n",
    "    for _ in x:\n",
    "        res += _\n",
    "    return res"
   ]
  },
  {
   "cell_type": "code",
   "execution_count": null,
   "metadata": {},
   "outputs": [],
   "source": [
    "ports = [21,22,23,25,80,135,139,161,179,389,443,445,623,1099,1433,1521,2049,3306,3389,4786,5432,5555,5900,6379,7001,8000,8008,8080,8443,27017]\n",
    "ips = ['1.1.1.1','2.2.2.2']"
   ]
  },
  {
   "cell_type": "code",
   "execution_count": null,
   "metadata": {},
   "outputs": [],
   "source": [
    "timeout=2.0\n",
    "def check(host,port):\n",
    "    try:\n",
    "        sock = socket.socket(socket.AF_INET, socket.SOCK_STREAM)\n",
    "        sock.settimeout(2.0)\n",
    "        sock.connect((host,port))\n",
    "        sock.send(b'GET / HTTP/1.1\\r\\nHost: example.com\\r\\n\\r\\n')\n",
    "        data = sock.recv(1024)\n",
    "        if len(data)==0:\n",
    "            return 0\n",
    "        return 1\n",
    "        \n",
    "    except:\n",
    "        return -1\n",
    "    \n",
    "    "
   ]
  },
  {
   "cell_type": "code",
   "execution_count": null,
   "metadata": {},
   "outputs": [],
   "source": [
    "all_hosts = []"
   ]
  },
  {
   "cell_type": "code",
   "execution_count": null,
   "metadata": {},
   "outputs": [],
   "source": [
    "def check_and_save(host_port):\n",
    "    all_hosts.append([host_port[0],host_port[1],check(host_port[0],host_port[1])])"
   ]
  },
  {
   "cell_type": "code",
   "execution_count": null,
   "metadata": {},
   "outputs": [],
   "source": [
    "#real work here\n",
    "threads = 100 #more than 100 unstable\n",
    "with ThreadPoolExecutor(max_workers=threads) as pool:\n",
    "    list(pool.map(check_and_save,itertools.product(ips,ports)))\n",
    "    "
   ]
  },
  {
   "cell_type": "code",
   "execution_count": null,
   "metadata": {},
   "outputs": [],
   "source": [
    "list(filter(lambda x: x[2]!=-1,all_hosts))"
   ]
  }
 ],
 "metadata": {
  "kernelspec": {
   "display_name": "Python 3",
   "language": "python",
   "name": "python3"
  },
  "language_info": {
   "codemirror_mode": {
    "name": "ipython",
    "version": 3
   },
   "file_extension": ".py",
   "mimetype": "text/x-python",
   "name": "python",
   "nbconvert_exporter": "python",
   "pygments_lexer": "ipython3",
   "version": "3.7.4"
  }
 },
 "nbformat": 4,
 "nbformat_minor": 2
}
